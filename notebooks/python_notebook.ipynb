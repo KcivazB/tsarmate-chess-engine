{
 "cells": [
  {
   "cell_type": "code",
   "execution_count": 1,
   "metadata": {},
   "outputs": [],
   "source": [
    "import sys\n",
    "import os"
   ]
  },
  {
   "cell_type": "code",
   "execution_count": 2,
   "metadata": {},
   "outputs": [],
   "source": [
    "# Add the src directory to the Python path\n",
    "sys.path.append('/app')"
   ]
  },
  {
   "cell_type": "code",
   "execution_count": 3,
   "metadata": {},
   "outputs": [],
   "source": [
    "# Now you can import your module\n",
    "from src.chess_engine import Board"
   ]
  },
  {
   "cell_type": "code",
   "execution_count": 4,
   "metadata": {},
   "outputs": [],
   "source": [
    "# Test the import\n",
    "board = Board()"
   ]
  },
  {
   "cell_type": "code",
   "execution_count": 5,
   "metadata": {},
   "outputs": [
    {
     "data": {
      "text/plain": [
       "{'white_pawn': array([0, 0, 0, 0, 0, 0, 0, 0, 1, 1, 1, 1, 1, 1, 1, 1, 0, 0, 0, 0, 0, 0,\n",
       "        0, 0, 0, 0, 0, 0, 0, 0, 0, 0, 0, 0, 0, 0, 0, 0, 0, 0, 0, 0, 0, 0,\n",
       "        0, 0, 0, 0, 0, 0, 0, 0, 0, 0, 0, 0, 0, 0, 0, 0, 0, 0, 0, 0]),\n",
       " 'white_rook': array([1, 0, 0, 0, 0, 0, 0, 1, 0, 0, 0, 0, 0, 0, 0, 0, 0, 0, 0, 0, 0, 0,\n",
       "        0, 0, 0, 0, 0, 0, 0, 0, 0, 0, 0, 0, 0, 0, 0, 0, 0, 0, 0, 0, 0, 0,\n",
       "        0, 0, 0, 0, 0, 0, 0, 0, 0, 0, 0, 0, 0, 0, 0, 0, 0, 0, 0, 0]),\n",
       " 'white_knight': array([0, 1, 0, 0, 0, 0, 1, 0, 0, 0, 0, 0, 0, 0, 0, 0, 0, 0, 0, 0, 0, 0,\n",
       "        0, 0, 0, 0, 0, 0, 0, 0, 0, 0, 0, 0, 0, 0, 0, 0, 0, 0, 0, 0, 0, 0,\n",
       "        0, 0, 0, 0, 0, 0, 0, 0, 0, 0, 0, 0, 0, 0, 0, 0, 0, 0, 0, 0]),\n",
       " 'white_bishop': array([0, 0, 1, 0, 0, 1, 0, 0, 0, 0, 0, 0, 0, 0, 0, 0, 0, 0, 0, 0, 0, 0,\n",
       "        0, 0, 0, 0, 0, 0, 0, 0, 0, 0, 0, 0, 0, 0, 0, 0, 0, 0, 0, 0, 0, 0,\n",
       "        0, 0, 0, 0, 0, 0, 0, 0, 0, 0, 0, 0, 0, 0, 0, 0, 0, 0, 0, 0]),\n",
       " 'white_queen': array([0, 0, 0, 1, 0, 0, 0, 0, 0, 0, 0, 0, 0, 0, 0, 0, 0, 0, 0, 0, 0, 0,\n",
       "        0, 0, 0, 0, 0, 0, 0, 0, 0, 0, 0, 0, 0, 0, 0, 0, 0, 0, 0, 0, 0, 0,\n",
       "        0, 0, 0, 0, 0, 0, 0, 0, 0, 0, 0, 0, 0, 0, 0, 0, 0, 0, 0, 0]),\n",
       " 'white_king': array([0, 0, 0, 0, 1, 0, 0, 0, 0, 0, 0, 0, 0, 0, 0, 0, 0, 0, 0, 0, 0, 0,\n",
       "        0, 0, 0, 0, 0, 0, 0, 0, 0, 0, 0, 0, 0, 0, 0, 0, 0, 0, 0, 0, 0, 0,\n",
       "        0, 0, 0, 0, 0, 0, 0, 0, 0, 0, 0, 0, 0, 0, 0, 0, 0, 0, 0, 0]),\n",
       " 'black_pawn': array([0, 0, 0, 0, 0, 0, 0, 0, 0, 0, 0, 0, 0, 0, 0, 0, 0, 0, 0, 0, 0, 0,\n",
       "        0, 0, 0, 0, 0, 0, 0, 0, 0, 0, 0, 0, 0, 0, 0, 0, 0, 0, 0, 0, 0, 0,\n",
       "        0, 0, 0, 0, 1, 1, 1, 1, 1, 1, 1, 1, 0, 0, 0, 0, 0, 0, 0, 0]),\n",
       " 'black_rook': array([0, 0, 0, 0, 0, 0, 0, 0, 0, 0, 0, 0, 0, 0, 0, 0, 0, 0, 0, 0, 0, 0,\n",
       "        0, 0, 0, 0, 0, 0, 0, 0, 0, 0, 0, 0, 0, 0, 0, 0, 0, 0, 0, 0, 0, 0,\n",
       "        0, 0, 0, 0, 0, 0, 0, 0, 0, 0, 0, 0, 1, 0, 0, 0, 0, 0, 0, 1]),\n",
       " 'black_knight': array([0, 0, 0, 0, 0, 0, 0, 0, 0, 0, 0, 0, 0, 0, 0, 0, 0, 0, 0, 0, 0, 0,\n",
       "        0, 0, 0, 0, 0, 0, 0, 0, 0, 0, 0, 0, 0, 0, 0, 0, 0, 0, 0, 0, 0, 0,\n",
       "        0, 0, 0, 0, 0, 0, 0, 0, 0, 0, 0, 0, 0, 1, 0, 0, 0, 0, 1, 0]),\n",
       " 'black_bishop': array([0, 0, 0, 0, 0, 0, 0, 0, 0, 0, 0, 0, 0, 0, 0, 0, 0, 0, 0, 0, 0, 0,\n",
       "        0, 0, 0, 0, 0, 0, 0, 0, 0, 0, 0, 0, 0, 0, 0, 0, 0, 0, 0, 0, 0, 0,\n",
       "        0, 0, 0, 0, 0, 0, 0, 0, 0, 0, 0, 0, 0, 0, 1, 0, 0, 1, 0, 0]),\n",
       " 'black_queen': array([0, 0, 0, 0, 0, 0, 0, 0, 0, 0, 0, 0, 0, 0, 0, 0, 0, 0, 0, 0, 0, 0,\n",
       "        0, 0, 0, 0, 0, 0, 0, 0, 0, 0, 0, 0, 0, 0, 0, 0, 0, 0, 0, 0, 0, 0,\n",
       "        0, 0, 0, 0, 0, 0, 0, 0, 0, 0, 0, 0, 0, 0, 0, 1, 0, 0, 0, 0]),\n",
       " 'black_king': array([0, 0, 0, 0, 0, 0, 0, 0, 0, 0, 0, 0, 0, 0, 0, 0, 0, 0, 0, 0, 0, 0,\n",
       "        0, 0, 0, 0, 0, 0, 0, 0, 0, 0, 0, 0, 0, 0, 0, 0, 0, 0, 0, 0, 0, 0,\n",
       "        0, 0, 0, 0, 0, 0, 0, 0, 0, 0, 0, 0, 0, 0, 0, 0, 1, 0, 0, 0])}"
      ]
     },
     "execution_count": 5,
     "metadata": {},
     "output_type": "execute_result"
    }
   ],
   "source": [
    "board.bitboards"
   ]
  },
  {
   "cell_type": "code",
   "execution_count": 6,
   "metadata": {},
   "outputs": [
    {
     "data": {
      "text/plain": [
       "array([1, 1, 1, 1, 1, 1, 1, 1, 1, 1, 1, 1, 1, 1, 1, 1, 0, 0, 0, 0, 0, 0,\n",
       "       0, 0, 0, 0, 0, 0, 0, 0, 0, 0, 0, 0, 0, 0, 0, 0, 0, 0, 0, 0, 0, 0,\n",
       "       0, 0, 0, 0, 1, 1, 1, 1, 1, 1, 1, 1, 1, 1, 1, 1, 1, 1, 1, 1])"
      ]
     },
     "execution_count": 6,
     "metadata": {},
     "output_type": "execute_result"
    }
   ],
   "source": [
    "board.get_occupied_squares_bitboard()"
   ]
  },
  {
   "cell_type": "code",
   "execution_count": 7,
   "metadata": {
    "scrolled": true
   },
   "outputs": [
    {
     "name": "stdout",
     "output_type": "stream",
     "text": [
      "  a b c d e f g h\n",
      "8 X X X X X X X X  8\n",
      "7 X X X X X X X X  7\n",
      "6 - - - - - - - -  6\n",
      "5 - - - - - - - -  5\n",
      "4 - - - - - - - -  4\n",
      "3 - - - - - - - -  3\n",
      "2 X X X X X X X X  2\n",
      "1 X X X X X X X X  1\n",
      "  a b c d e f g h\n"
     ]
    }
   ],
   "source": [
    "board.pretty_print_bitboard(board.get_occupied_squares_bitboard())"
   ]
  },
  {
   "cell_type": "code",
   "execution_count": 8,
   "metadata": {},
   "outputs": [
    {
     "name": "stdout",
     "output_type": "stream",
     "text": [
      "  a b c d e f g h\n",
      "8 - - - - - - - -  8\n",
      "7 - - - - - - - -  7\n",
      "6 X X X X X X X X  6\n",
      "5 X X X X X X X X  5\n",
      "4 X X X X X X X X  4\n",
      "3 X X X X X X X X  3\n",
      "2 - - - - - - - -  2\n",
      "1 - - - - - - - -  1\n",
      "  a b c d e f g h\n"
     ]
    }
   ],
   "source": [
    "board.pretty_print_bitboard(board.get_empty_squares_bitboard())"
   ]
  },
  {
   "cell_type": "code",
   "execution_count": 9,
   "metadata": {},
   "outputs": [
    {
     "name": "stdout",
     "output_type": "stream",
     "text": [
      "  a b c d e f g h\n",
      "8 - - - - - - - -  8\n",
      "7 - - - - - - - -  7\n",
      "6 - - - - - - - -  6\n",
      "5 - - - - - - - -  5\n",
      "4 - - - - - - - -  4\n",
      "3 - - - - - - - -  3\n",
      "2 X X X X X X X X  2\n",
      "1 - - - - - - - -  1\n",
      "  a b c d e f g h\n"
     ]
    }
   ],
   "source": [
    "board.pretty_print_bitboard(board.bitboards['white_pawn'])"
   ]
  },
  {
   "cell_type": "code",
   "execution_count": 10,
   "metadata": {},
   "outputs": [
    {
     "name": "stdout",
     "output_type": "stream",
     "text": [
      "  a b c d e f g h\n",
      "8 - - - - - - - -  8\n",
      "7 X X X X X X X X  7\n",
      "6 - - - - - - - -  6\n",
      "5 - - - - - - - -  5\n",
      "4 - - - - - - - -  4\n",
      "3 - - - - - - - -  3\n",
      "2 - - - - - - - -  2\n",
      "1 - - - - - - - -  1\n",
      "  a b c d e f g h\n"
     ]
    }
   ],
   "source": [
    "board.pretty_print_bitboard(board.bitboards['black_pawn'])"
   ]
  },
  {
   "cell_type": "code",
   "execution_count": 11,
   "metadata": {},
   "outputs": [
    {
     "name": "stdout",
     "output_type": "stream",
     "text": [
      "  a b c d e f g h\n",
      "8 - - - - - - - -  8\n",
      "7 - - - - - - - -  7\n",
      "6 - - - - - - - -  6\n",
      "5 - - - - - - - -  5\n",
      "4 - - - - - - - -  4\n",
      "3 - - - - - - - -  3\n",
      "2 - - - - - - - -  2\n",
      "1 - - - X - - - -  1\n",
      "  a b c d e f g h\n"
     ]
    }
   ],
   "source": [
    "board.pretty_print_bitboard(board.bitboards['white_queen'])"
   ]
  },
  {
   "cell_type": "code",
   "execution_count": 12,
   "metadata": {},
   "outputs": [
    {
     "name": "stdout",
     "output_type": "stream",
     "text": [
      "  a b c d e f g h\n",
      "8 - - - X - - - -  8\n",
      "7 - - - - - - - -  7\n",
      "6 - - - - - - - -  6\n",
      "5 - - - - - - - -  5\n",
      "4 - - - - - - - -  4\n",
      "3 - - - - - - - -  3\n",
      "2 - - - - - - - -  2\n",
      "1 - - - - - - - -  1\n",
      "  a b c d e f g h\n"
     ]
    }
   ],
   "source": [
    "board.pretty_print_bitboard(board.bitboards['black_queen'])"
   ]
  },
  {
   "cell_type": "code",
   "execution_count": 13,
   "metadata": {},
   "outputs": [
    {
     "name": "stdout",
     "output_type": "stream",
     "text": [
      "  a b c d e f g h\n",
      "8 - - - - - - - -  8\n",
      "7 - - - - - - - -  7\n",
      "6 - - - - - - - -  6\n",
      "5 - - - - - - - -  5\n",
      "4 - - - - - - - -  4\n",
      "3 - - - - - - - -  3\n",
      "2 - - - - - - - -  2\n",
      "1 - - X - - X - -  1\n",
      "  a b c d e f g h\n"
     ]
    }
   ],
   "source": [
    "board.pretty_print_bitboard(board.bitboards['white_bishop'])"
   ]
  },
  {
   "cell_type": "code",
   "execution_count": 14,
   "metadata": {},
   "outputs": [
    {
     "name": "stdout",
     "output_type": "stream",
     "text": [
      "  a b c d e f g h\n",
      "8 - - X - - X - -  8\n",
      "7 - - - - - - - -  7\n",
      "6 - - - - - - - -  6\n",
      "5 - - - - - - - -  5\n",
      "4 - - - - - - - -  4\n",
      "3 - - - - - - - -  3\n",
      "2 - - - - - - - -  2\n",
      "1 - - - - - - - -  1\n",
      "  a b c d e f g h\n"
     ]
    }
   ],
   "source": [
    "board.pretty_print_bitboard(board.bitboards['black_bishop'])"
   ]
  },
  {
   "cell_type": "code",
   "execution_count": 15,
   "metadata": {},
   "outputs": [
    {
     "name": "stdout",
     "output_type": "stream",
     "text": [
      "  a b c d e f g h\n",
      "8 - - - - - - - -  8\n",
      "7 - - - - - - - -  7\n",
      "6 - - - - - - - -  6\n",
      "5 - - - - - - - -  5\n",
      "4 - - - - - - - -  4\n",
      "3 - - - - - - - -  3\n",
      "2 - - - - - - - -  2\n",
      "1 X - - - - - - X  1\n",
      "  a b c d e f g h\n"
     ]
    }
   ],
   "source": [
    "board.pretty_print_bitboard(board.bitboards['white_rook'])"
   ]
  },
  {
   "cell_type": "code",
   "execution_count": 16,
   "metadata": {},
   "outputs": [
    {
     "data": {
      "text/plain": [
       "['a2',\n",
       " 'a3',\n",
       " 'a4',\n",
       " 'a5',\n",
       " 'a6',\n",
       " 'a7',\n",
       " 'a8',\n",
       " 'b1',\n",
       " 'c1',\n",
       " 'd1',\n",
       " 'e1',\n",
       " 'f1',\n",
       " 'g1',\n",
       " 'h1']"
      ]
     },
     "execution_count": 16,
     "metadata": {},
     "output_type": "execute_result"
    }
   ],
   "source": [
    "board.get_rook_moves('a1')"
   ]
  },
  {
   "cell_type": "code",
   "execution_count": 17,
   "metadata": {},
   "outputs": [
    {
     "data": {
      "text/plain": [
       "['h2',\n",
       " 'h3',\n",
       " 'h4',\n",
       " 'h5',\n",
       " 'h6',\n",
       " 'h7',\n",
       " 'h8',\n",
       " 'g1',\n",
       " 'f1',\n",
       " 'e1',\n",
       " 'd1',\n",
       " 'c1',\n",
       " 'b1',\n",
       " 'a1']"
      ]
     },
     "execution_count": 17,
     "metadata": {},
     "output_type": "execute_result"
    }
   ],
   "source": [
    "board.get_rook_moves('h1')"
   ]
  },
  {
   "cell_type": "code",
   "execution_count": 22,
   "metadata": {},
   "outputs": [
    {
     "data": {
      "text/plain": [
       "['b4', 'c5', 'd6', 'e7', 'f8', 'b2', 'c1']"
      ]
     },
     "execution_count": 22,
     "metadata": {},
     "output_type": "execute_result"
    }
   ],
   "source": [
    "board.get_bishop_moves('a3')"
   ]
  },
  {
   "cell_type": "code",
   "execution_count": null,
   "metadata": {},
   "outputs": [],
   "source": [
    "board.get_queen_moves(19)"
   ]
  },
  {
   "cell_type": "code",
   "execution_count": null,
   "metadata": {},
   "outputs": [],
   "source": [
    "board.get_king_moves(4)"
   ]
  },
  {
   "cell_type": "code",
   "execution_count": null,
   "metadata": {},
   "outputs": [],
   "source": [
    "board.get_knight_moves('e1')"
   ]
  },
  {
   "cell_type": "code",
   "execution_count": 21,
   "metadata": {},
   "outputs": [
    {
     "data": {
      "text/plain": [
       "0"
      ]
     },
     "execution_count": 21,
     "metadata": {},
     "output_type": "execute_result"
    }
   ],
   "source": [
    "board.chess_notation_to_index('a1')"
   ]
  },
  {
   "cell_type": "code",
   "execution_count": 20,
   "metadata": {},
   "outputs": [
    {
     "data": {
      "text/plain": [
       "'h8'"
      ]
     },
     "execution_count": 20,
     "metadata": {},
     "output_type": "execute_result"
    }
   ],
   "source": [
    "board.index_to_chess_notation(63)"
   ]
  },
  {
   "cell_type": "code",
   "execution_count": null,
   "metadata": {},
   "outputs": [],
   "source": []
  },
  {
   "cell_type": "code",
   "execution_count": null,
   "metadata": {},
   "outputs": [],
   "source": []
  }
 ],
 "metadata": {
  "kernelspec": {
   "display_name": "Python 3 (ipykernel)",
   "language": "python",
   "name": "python3"
  },
  "language_info": {
   "codemirror_mode": {
    "name": "ipython",
    "version": 3
   },
   "file_extension": ".py",
   "mimetype": "text/x-python",
   "name": "python",
   "nbconvert_exporter": "python",
   "pygments_lexer": "ipython3",
   "version": "3.12.4"
  }
 },
 "nbformat": 4,
 "nbformat_minor": 4
}
