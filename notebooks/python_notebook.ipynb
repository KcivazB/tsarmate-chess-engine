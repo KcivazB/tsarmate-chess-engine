{
 "cells": [
  {
   "cell_type": "code",
   "execution_count": 1,
   "metadata": {},
   "outputs": [],
   "source": [
    "import sys\n",
    "import os"
   ]
  },
  {
   "cell_type": "code",
   "execution_count": 2,
   "metadata": {},
   "outputs": [],
   "source": [
    "# Add the src directory to the Python path\n",
    "sys.path.append('/app')"
   ]
  },
  {
   "cell_type": "code",
   "execution_count": 3,
   "metadata": {},
   "outputs": [],
   "source": [
    "# Now you can import your module\n",
    "from src.chess_engine import Board"
   ]
  },
  {
   "cell_type": "code",
   "execution_count": 4,
   "metadata": {},
   "outputs": [],
   "source": [
    "# Test the import\n",
    "board = Board()"
   ]
  },
  {
   "cell_type": "code",
   "execution_count": 5,
   "metadata": {},
   "outputs": [
    {
     "data": {
      "text/plain": [
       "{'white_pawn': array([0, 0, 0, 0, 0, 0, 0, 0, 1, 1, 1, 1, 1, 1, 1, 1, 0, 0, 0, 0, 0, 0,\n",
       "        0, 0, 0, 0, 0, 0, 0, 0, 0, 0, 0, 0, 0, 0, 0, 0, 0, 0, 0, 0, 0, 0,\n",
       "        0, 0, 0, 0, 0, 0, 0, 0, 0, 0, 0, 0, 0, 0, 0, 0, 0, 0, 0, 0]),\n",
       " 'white_rook': array([1, 0, 0, 0, 0, 0, 0, 1, 0, 0, 0, 0, 0, 0, 0, 0, 0, 0, 0, 0, 0, 0,\n",
       "        0, 0, 0, 0, 0, 0, 0, 0, 0, 0, 0, 0, 0, 0, 0, 0, 0, 0, 0, 0, 0, 0,\n",
       "        0, 0, 0, 0, 0, 0, 0, 0, 0, 0, 0, 0, 0, 0, 0, 0, 0, 0, 0, 0]),\n",
       " 'white_knight': array([0, 1, 0, 0, 0, 0, 1, 0, 0, 0, 0, 0, 0, 0, 0, 0, 0, 0, 0, 0, 0, 0,\n",
       "        0, 0, 0, 0, 0, 0, 0, 0, 0, 0, 0, 0, 0, 0, 0, 0, 0, 0, 0, 0, 0, 0,\n",
       "        0, 0, 0, 0, 0, 0, 0, 0, 0, 0, 0, 0, 0, 0, 0, 0, 0, 0, 0, 0]),\n",
       " 'white_bishop': array([0, 0, 1, 0, 0, 1, 0, 0, 0, 0, 0, 0, 0, 0, 0, 0, 0, 0, 0, 0, 0, 0,\n",
       "        0, 0, 0, 0, 0, 0, 0, 0, 0, 0, 0, 0, 0, 0, 0, 0, 0, 0, 0, 0, 0, 0,\n",
       "        0, 0, 0, 0, 0, 0, 0, 0, 0, 0, 0, 0, 0, 0, 0, 0, 0, 0, 0, 0]),\n",
       " 'white_queen': array([0, 0, 0, 1, 0, 0, 0, 0, 0, 0, 0, 0, 0, 0, 0, 0, 0, 0, 0, 0, 0, 0,\n",
       "        0, 0, 0, 0, 0, 0, 0, 0, 0, 0, 0, 0, 0, 0, 0, 0, 0, 0, 0, 0, 0, 0,\n",
       "        0, 0, 0, 0, 0, 0, 0, 0, 0, 0, 0, 0, 0, 0, 0, 0, 0, 0, 0, 0]),\n",
       " 'white_king': array([0, 0, 0, 0, 1, 0, 0, 0, 0, 0, 0, 0, 0, 0, 0, 0, 0, 0, 0, 0, 0, 0,\n",
       "        0, 0, 0, 0, 0, 0, 0, 0, 0, 0, 0, 0, 0, 0, 0, 0, 0, 0, 0, 0, 0, 0,\n",
       "        0, 0, 0, 0, 0, 0, 0, 0, 0, 0, 0, 0, 0, 0, 0, 0, 0, 0, 0, 0]),\n",
       " 'black_pawn': array([0, 0, 0, 0, 0, 0, 0, 0, 0, 0, 0, 0, 0, 0, 0, 0, 0, 0, 0, 0, 0, 0,\n",
       "        0, 0, 0, 0, 0, 0, 0, 0, 0, 0, 0, 0, 0, 0, 0, 0, 0, 0, 0, 0, 0, 0,\n",
       "        0, 0, 0, 0, 1, 1, 1, 1, 1, 1, 1, 1, 0, 0, 0, 0, 0, 0, 0, 0]),\n",
       " 'black_rook': array([0, 0, 0, 0, 0, 0, 0, 0, 0, 0, 0, 0, 0, 0, 0, 0, 0, 0, 0, 0, 0, 0,\n",
       "        0, 0, 0, 0, 0, 0, 0, 0, 0, 0, 0, 0, 0, 0, 0, 0, 0, 0, 0, 0, 0, 0,\n",
       "        0, 0, 0, 0, 0, 0, 0, 0, 0, 0, 0, 0, 1, 0, 0, 0, 0, 0, 0, 1]),\n",
       " 'black_knight': array([0, 0, 0, 0, 0, 0, 0, 0, 0, 0, 0, 0, 0, 0, 0, 0, 0, 0, 0, 0, 0, 0,\n",
       "        0, 0, 0, 0, 0, 0, 0, 0, 0, 0, 0, 0, 0, 0, 0, 0, 0, 0, 0, 0, 0, 0,\n",
       "        0, 0, 0, 0, 0, 0, 0, 0, 0, 0, 0, 0, 0, 1, 0, 0, 0, 0, 1, 0]),\n",
       " 'black_bishop': array([0, 0, 0, 0, 0, 0, 0, 0, 0, 0, 0, 0, 0, 0, 0, 0, 0, 0, 0, 0, 0, 0,\n",
       "        0, 0, 0, 0, 0, 0, 0, 0, 0, 0, 0, 0, 0, 0, 0, 0, 0, 0, 0, 0, 0, 0,\n",
       "        0, 0, 0, 0, 0, 0, 0, 0, 0, 0, 0, 0, 0, 0, 1, 0, 0, 1, 0, 0]),\n",
       " 'black_queen': array([0, 0, 0, 0, 0, 0, 0, 0, 0, 0, 0, 0, 0, 0, 0, 0, 0, 0, 0, 0, 0, 0,\n",
       "        0, 0, 0, 0, 0, 0, 0, 0, 0, 0, 0, 0, 0, 0, 0, 0, 0, 0, 0, 0, 0, 0,\n",
       "        0, 0, 0, 0, 0, 0, 0, 0, 0, 0, 0, 0, 0, 0, 0, 1, 0, 0, 0, 0]),\n",
       " 'black_king': array([0, 0, 0, 0, 0, 0, 0, 0, 0, 0, 0, 0, 0, 0, 0, 0, 0, 0, 0, 0, 0, 0,\n",
       "        0, 0, 0, 0, 0, 0, 0, 0, 0, 0, 0, 0, 0, 0, 0, 0, 0, 0, 0, 0, 0, 0,\n",
       "        0, 0, 0, 0, 0, 0, 0, 0, 0, 0, 0, 0, 0, 0, 0, 0, 1, 0, 0, 0])}"
      ]
     },
     "execution_count": 5,
     "metadata": {},
     "output_type": "execute_result"
    }
   ],
   "source": [
    "board.bitboards"
   ]
  },
  {
   "cell_type": "code",
   "execution_count": 6,
   "metadata": {},
   "outputs": [
    {
     "data": {
      "text/plain": [
       "array([1, 1, 1, 1, 1, 1, 1, 1, 1, 1, 1, 1, 1, 1, 1, 1, 0, 0, 0, 0, 0, 0,\n",
       "       0, 0, 0, 0, 0, 0, 0, 0, 0, 0, 0, 0, 0, 0, 0, 0, 0, 0, 0, 0, 0, 0,\n",
       "       0, 0, 0, 0, 1, 1, 1, 1, 1, 1, 1, 1, 1, 1, 1, 1, 1, 1, 1, 1])"
      ]
     },
     "execution_count": 6,
     "metadata": {},
     "output_type": "execute_result"
    }
   ],
   "source": [
    "board.get_occupied_squares_bitboard()"
   ]
  },
  {
   "cell_type": "code",
   "execution_count": 7,
   "metadata": {
    "scrolled": true
   },
   "outputs": [
    {
     "name": "stdout",
     "output_type": "stream",
     "text": [
      "  a b c d e f g h\n",
      "8 r n b q k b n r  8\n",
      "7 p p p p p p p p  7\n",
      "6 - - - - - - - -  6\n",
      "5 - - - - - - - -  5\n",
      "4 - - - - - - - -  4\n",
      "3 - - - - - - - -  3\n",
      "2 P P P P P P P P  2\n",
      "1 R N B Q K B N R  1\n",
      "  a b c d e f g h\n"
     ]
    }
   ],
   "source": [
    "board.pretty_print_bitboard(board.get_occupied_squares_bitboard())"
   ]
  },
  {
   "cell_type": "code",
   "execution_count": 8,
   "metadata": {},
   "outputs": [
    {
     "name": "stdout",
     "output_type": "stream",
     "text": [
      "  a b c d e f g h\n",
      "8 - - - - - - - -  8\n",
      "7 - - - - - - - -  7\n",
      "6  6\n",
      "5  5\n",
      "4  4\n",
      "3  3\n",
      "2 - - - - - - - -  2\n",
      "1 - - - - - - - -  1\n",
      "  a b c d e f g h\n"
     ]
    }
   ],
   "source": [
    "board.pretty_print_bitboard(board.get_empty_squares_bitboard())"
   ]
  },
  {
   "cell_type": "code",
   "execution_count": 9,
   "metadata": {},
   "outputs": [
    {
     "name": "stdout",
     "output_type": "stream",
     "text": [
      "  a b c d e f g h\n",
      "8 - - - - - - - -  8\n",
      "7 - - - - - - - -  7\n",
      "6 - - - - - - - -  6\n",
      "5 - - - - - - - -  5\n",
      "4 - - - - - - - -  4\n",
      "3 - - - - - - - -  3\n",
      "2 P P P P P P P P  2\n",
      "1 - - - - - - - -  1\n",
      "  a b c d e f g h\n"
     ]
    }
   ],
   "source": [
    "board.pretty_print_bitboard(board.bitboards['white_pawn'])"
   ]
  },
  {
   "cell_type": "code",
   "execution_count": 10,
   "metadata": {},
   "outputs": [
    {
     "name": "stdout",
     "output_type": "stream",
     "text": [
      "  a b c d e f g h\n",
      "8 - - - - - - - -  8\n",
      "7 p p p p p p p p  7\n",
      "6 - - - - - - - -  6\n",
      "5 - - - - - - - -  5\n",
      "4 - - - - - - - -  4\n",
      "3 - - - - - - - -  3\n",
      "2 - - - - - - - -  2\n",
      "1 - - - - - - - -  1\n",
      "  a b c d e f g h\n"
     ]
    }
   ],
   "source": [
    "board.pretty_print_bitboard(board.bitboards['black_pawn'])"
   ]
  },
  {
   "cell_type": "code",
   "execution_count": 11,
   "metadata": {},
   "outputs": [
    {
     "name": "stdout",
     "output_type": "stream",
     "text": [
      "  a b c d e f g h\n",
      "8 - - - - - - - -  8\n",
      "7 - - - - - - - -  7\n",
      "6 - - - - - - - -  6\n",
      "5 - - - - - - - -  5\n",
      "4 - - - - - - - -  4\n",
      "3 - - - - - - - -  3\n",
      "2 - - - - - - - -  2\n",
      "1 - - - Q - - - -  1\n",
      "  a b c d e f g h\n"
     ]
    }
   ],
   "source": [
    "board.pretty_print_bitboard(board.bitboards['white_queen'])"
   ]
  },
  {
   "cell_type": "code",
   "execution_count": 12,
   "metadata": {},
   "outputs": [
    {
     "name": "stdout",
     "output_type": "stream",
     "text": [
      "  a b c d e f g h\n",
      "8 - - - q - - - -  8\n",
      "7 - - - - - - - -  7\n",
      "6 - - - - - - - -  6\n",
      "5 - - - - - - - -  5\n",
      "4 - - - - - - - -  4\n",
      "3 - - - - - - - -  3\n",
      "2 - - - - - - - -  2\n",
      "1 - - - - - - - -  1\n",
      "  a b c d e f g h\n"
     ]
    }
   ],
   "source": [
    "board.pretty_print_bitboard(board.bitboards['black_queen'])"
   ]
  },
  {
   "cell_type": "code",
   "execution_count": 13,
   "metadata": {},
   "outputs": [
    {
     "name": "stdout",
     "output_type": "stream",
     "text": [
      "  a b c d e f g h\n",
      "8 - - - - - - - -  8\n",
      "7 - - - - - - - -  7\n",
      "6 - - - - - - - -  6\n",
      "5 - - - - - - - -  5\n",
      "4 - - - - - - - -  4\n",
      "3 - - - - - - - -  3\n",
      "2 - - - - - - - -  2\n",
      "1 - - B - - B - -  1\n",
      "  a b c d e f g h\n"
     ]
    }
   ],
   "source": [
    "board.pretty_print_bitboard(board.bitboards['white_bishop'])"
   ]
  },
  {
   "cell_type": "code",
   "execution_count": 14,
   "metadata": {},
   "outputs": [
    {
     "name": "stdout",
     "output_type": "stream",
     "text": [
      "  a b c d e f g h\n",
      "8 - - b - - b - -  8\n",
      "7 - - - - - - - -  7\n",
      "6 - - - - - - - -  6\n",
      "5 - - - - - - - -  5\n",
      "4 - - - - - - - -  4\n",
      "3 - - - - - - - -  3\n",
      "2 - - - - - - - -  2\n",
      "1 - - - - - - - -  1\n",
      "  a b c d e f g h\n"
     ]
    }
   ],
   "source": [
    "board.pretty_print_bitboard(board.bitboards['black_bishop'])"
   ]
  },
  {
   "cell_type": "code",
   "execution_count": 15,
   "metadata": {},
   "outputs": [
    {
     "name": "stdout",
     "output_type": "stream",
     "text": [
      "  a b c d e f g h\n",
      "8 - - - - - - - -  8\n",
      "7 - - - - - - - -  7\n",
      "6 - - - - - - - -  6\n",
      "5 - - - - - - - -  5\n",
      "4 - - - - - - - -  4\n",
      "3 - - - - - - - -  3\n",
      "2 - - - - - - - -  2\n",
      "1 R - - - - - - R  1\n",
      "  a b c d e f g h\n"
     ]
    }
   ],
   "source": [
    "board.pretty_print_bitboard(board.bitboards['white_rook'])"
   ]
  },
  {
   "cell_type": "code",
   "execution_count": 16,
   "metadata": {},
   "outputs": [
    {
     "data": {
      "text/plain": [
       "array([1, 1, 1, 1, 1, 1, 1, 1, 1, 1, 1, 1, 1, 1, 1, 1, 0, 0, 0, 0, 0, 0,\n",
       "       0, 0, 0, 0, 0, 0, 0, 0, 0, 0, 0, 0, 0, 0, 0, 0, 0, 0, 0, 0, 0, 0,\n",
       "       0, 0, 0, 0, 1, 1, 1, 1, 1, 1, 1, 1, 1, 1, 1, 1, 1, 1, 1, 1])"
      ]
     },
     "execution_count": 16,
     "metadata": {},
     "output_type": "execute_result"
    }
   ],
   "source": [
    "board.get_occupied_squares_bitboard()"
   ]
  },
  {
   "cell_type": "code",
   "execution_count": 32,
   "metadata": {},
   "outputs": [
    {
     "data": {
      "text/plain": [
       "True"
      ]
     },
     "execution_count": 32,
     "metadata": {},
     "output_type": "execute_result"
    }
   ],
   "source": [
    "board.is_path_clear(48, 56, board.get_occupied_squares_bitboard())"
   ]
  },
  {
   "cell_type": "code",
   "execution_count": 18,
   "metadata": {},
   "outputs": [
    {
     "name": "stdout",
     "output_type": "stream",
     "text": [
      "  a b c d e f g h\n",
      "8 r n b q k b n r  8\n",
      "7 p p p p p p p p  7\n",
      "6 - - - - - - - -  6\n",
      "5 - - - - - - - -  5\n",
      "4 - - - - - - - -  4\n",
      "3 - - - - - - - -  3\n",
      "2 P P P P P P P P  2\n",
      "1 R N B Q K B N R  1\n",
      "  a b c d e f g h\n",
      "move : 24\n",
      "Path is clear in 24\n",
      "move : 32\n",
      "Path is clear in 32\n",
      "move : 40\n",
      "Path is clear in 40\n",
      "move : 48\n",
      "Path is clear in 48\n",
      "move : 56\n",
      "move : 8\n",
      "Path is clear in 8\n",
      "move : 0\n",
      "move : 17\n",
      "Path is clear in 17\n",
      "move : 18\n",
      "Path is clear in 18\n",
      "move : 19\n",
      "Path is clear in 19\n",
      "move : 20\n",
      "Path is clear in 20\n",
      "move : 21\n",
      "Path is clear in 21\n",
      "move : 22\n",
      "Path is clear in 22\n",
      "move : 23\n",
      "Path is clear in 23\n"
     ]
    },
    {
     "data": {
      "text/plain": [
       "['a4', 'a5', 'a6', 'a7', 'a2', 'b3', 'c3', 'd3', 'e3', 'f3', 'g3', 'h3']"
      ]
     },
     "execution_count": 18,
     "metadata": {},
     "output_type": "execute_result"
    }
   ],
   "source": [
    "board.get_rook_moves('a3')"
   ]
  },
  {
   "cell_type": "code",
   "execution_count": 19,
   "metadata": {},
   "outputs": [
    {
     "name": "stdout",
     "output_type": "stream",
     "text": [
      "  a b c d e f g h\n",
      "8 r n b q k b n r  8\n",
      "7 p p p p p p p p  7\n",
      "6 - - - - - - - -  6\n",
      "5 - - - - - - - -  5\n",
      "4 - - - - - - - -  4\n",
      "3 - - - - - - - -  3\n",
      "2 P P P P P P P P  2\n",
      "1 R N B Q K B N R  1\n",
      "  a b c d e f g h\n",
      "move : 15\n",
      "Path is clear in 15\n",
      "move : 23\n",
      "move : 31\n",
      "move : 39\n",
      "move : 47\n",
      "move : 55\n",
      "move : 63\n",
      "move : 6\n",
      "Path is clear in 6\n",
      "move : 5\n",
      "move : 4\n",
      "move : 3\n",
      "move : 2\n",
      "move : 1\n",
      "move : 0\n"
     ]
    },
    {
     "data": {
      "text/plain": [
       "['h2', 'g1']"
      ]
     },
     "execution_count": 19,
     "metadata": {},
     "output_type": "execute_result"
    }
   ],
   "source": [
    "board.get_rook_moves('h1')"
   ]
  },
  {
   "cell_type": "code",
   "execution_count": 20,
   "metadata": {},
   "outputs": [
    {
     "data": {
      "text/plain": [
       "['b2', 'a3', 'd2', 'e3', 'f4', 'g5', 'h6']"
      ]
     },
     "execution_count": 20,
     "metadata": {},
     "output_type": "execute_result"
    }
   ],
   "source": [
    "board.get_bishop_moves('c1')"
   ]
  },
  {
   "cell_type": "code",
   "execution_count": 21,
   "metadata": {},
   "outputs": [
    {
     "data": {
      "text/plain": [
       "['a1',\n",
       " 'b1',\n",
       " 'c1',\n",
       " 'e1',\n",
       " 'f1',\n",
       " 'g1',\n",
       " 'h1',\n",
       " 'c2',\n",
       " 'd2',\n",
       " 'e2',\n",
       " 'b3',\n",
       " 'd3',\n",
       " 'f3',\n",
       " 'a4',\n",
       " 'd4',\n",
       " 'g4',\n",
       " 'd5',\n",
       " 'h5',\n",
       " 'd6',\n",
       " 'd7',\n",
       " 'd8']"
      ]
     },
     "execution_count": 21,
     "metadata": {},
     "output_type": "execute_result"
    }
   ],
   "source": [
    "board.get_queen_moves('d1')"
   ]
  },
  {
   "cell_type": "code",
   "execution_count": 22,
   "metadata": {},
   "outputs": [
    {
     "data": {
      "text/plain": [
       "['e2', 'd2', 'f2', 'f1', 'd1']"
      ]
     },
     "execution_count": 22,
     "metadata": {},
     "output_type": "execute_result"
    }
   ],
   "source": [
    "board.get_king_moves('e1')"
   ]
  },
  {
   "cell_type": "code",
   "execution_count": 23,
   "metadata": {},
   "outputs": [
    {
     "data": {
      "text/plain": [
       "['c2', 'd3', 'f3', 'g2']"
      ]
     },
     "execution_count": 23,
     "metadata": {},
     "output_type": "execute_result"
    }
   ],
   "source": [
    "board.get_knight_moves('e1')"
   ]
  },
  {
   "cell_type": "code",
   "execution_count": 24,
   "metadata": {},
   "outputs": [
    {
     "data": {
      "text/plain": [
       "0"
      ]
     },
     "execution_count": 24,
     "metadata": {},
     "output_type": "execute_result"
    }
   ],
   "source": [
    "board.chess_notation_to_index('a1')"
   ]
  },
  {
   "cell_type": "code",
   "execution_count": 25,
   "metadata": {},
   "outputs": [
    {
     "data": {
      "text/plain": [
       "'h8'"
      ]
     },
     "execution_count": 25,
     "metadata": {},
     "output_type": "execute_result"
    }
   ],
   "source": [
    "board.index_to_chess_notation(63)"
   ]
  },
  {
   "cell_type": "code",
   "execution_count": null,
   "metadata": {},
   "outputs": [],
   "source": []
  },
  {
   "cell_type": "code",
   "execution_count": null,
   "metadata": {},
   "outputs": [],
   "source": []
  }
 ],
 "metadata": {
  "kernelspec": {
   "display_name": "Python 3 (ipykernel)",
   "language": "python",
   "name": "python3"
  },
  "language_info": {
   "codemirror_mode": {
    "name": "ipython",
    "version": 3
   },
   "file_extension": ".py",
   "mimetype": "text/x-python",
   "name": "python",
   "nbconvert_exporter": "python",
   "pygments_lexer": "ipython3",
   "version": "3.12.4"
  }
 },
 "nbformat": 4,
 "nbformat_minor": 4
}
